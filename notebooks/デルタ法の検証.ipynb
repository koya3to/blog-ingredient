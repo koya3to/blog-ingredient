{
 "cells": [
  {
   "cell_type": "code",
   "execution_count": 1,
   "id": "b23163f8-5a5a-4b55-a4e4-7edf23dcde31",
   "metadata": {},
   "outputs": [],
   "source": [
    "import numpy as np"
   ]
  },
  {
   "cell_type": "code",
   "execution_count": 12,
   "id": "b8609e8c-1881-4590-92ba-09e3041031d3",
   "metadata": {},
   "outputs": [],
   "source": [
    "def make_exp_data(num_sim = 1000, num_user = 1000):\n",
    "    rng = np.random.default_rng()\n",
    "    sim_result = np.zeros((num_sim, num_user, 2))\n",
    "    for sim_i in range(num_sim):\n",
    "        cluster = rng.multinomial(num_user, [1./3,1./2,1./6])\n",
    "        for user_i in range(num_user):\n",
    "            # small\n",
    "            if user_i<cluster[0]:\n",
    "                lam = 2\n",
    "                mu = 0.3\n",
    "                sig = 0.05\n",
    "            # medium\n",
    "            elif user_i<cluster[0]+cluster[1]:\n",
    "                lam = 5\n",
    "                mu = 0.5\n",
    "                sig = 0.1\n",
    "            #high\n",
    "            else:\n",
    "                lam = 30\n",
    "                mu = 0.8\n",
    "                sig = 0.05\n",
    "            N_i = rng.poisson(lam=lam)\n",
    "            mu_i = rng.normal(loc=mu, scale=sig)\n",
    "            try:\n",
    "                Y_i = rng.binomial(N_i, mu_i)\n",
    "            except:\n",
    "                Y_i = N_i\n",
    "            sim_result[sim_i, user_i, :] = [N_i, Y_i]\n",
    "    return sim_result\n",
    "sim_result_A = make_exp_data()\n",
    "sim_result_B = make_exp_data()"
   ]
  },
  {
   "cell_type": "code",
   "execution_count": 13,
   "id": "02ef134c-b30a-43c1-963c-b001c5a6f91c",
   "metadata": {},
   "outputs": [],
   "source": [
    "def delta_var(sim_result):\n",
    "    mu = sim_result.mean(axis=1)\n",
    "    cov = np.asarray([[np.cov(sim_result[i,:,0], sim_result[i,:,1], ddof=1)[0,0], np.cov(sim_result[i,:,0],sim_result[i,:,1], ddof=1)[1,1], np.cov(sim_result[i,:,0],sim_result[i,:,1], ddof=1)[0,1]] for i in range(sim_result.shape[1])])\n",
    "    var = (1./(sim_result.shape[1]*np.square(mu[:,0]))*\n",
    "        (cov[:,1]-\n",
    "         2*mu[:,1]/mu[:,0]*cov[:,2] + \n",
    "         np.square(mu[:,1])/np.square(mu[:,0])*cov[:,0])\n",
    "          )\n",
    "    return var\n",
    "\n",
    "def calc_ctr(sim_result):\n",
    "    return sim_result.mean(axis=1)[:,1]/sim_result.mean(axis=1)[:,0]"
   ]
  },
  {
   "cell_type": "code",
   "execution_count": 14,
   "id": "3416819b-f71a-49d1-9633-534f0d0b50fd",
   "metadata": {},
   "outputs": [],
   "source": [
    "from scipy import stats\n",
    "def delta_p(sim_result_A, sim_result_B):\n",
    "    p_list = []\n",
    "    ctr_array_A = calc_ctr(sim_result_A)\n",
    "    delta_var_array_A = delta_var(sim_result_A)\n",
    "\n",
    "    ctr_array_B = calc_ctr(sim_result_B)\n",
    "    delta_var_array_B = delta_var(sim_result_B)\n",
    "    for i in range(sim_result_A.shape[0]):\n",
    "        p_value = stats.ttest_ind_from_stats(mean1=ctr_array_A[i],\n",
    "                                             std1=np.sqrt(delta_var_array_A[i]*sim_result_A.shape[1]),\n",
    "                                             nobs1=sim_result_A.shape[1],\n",
    "                                             mean2=ctr_array_B[i],\n",
    "                                             std2=np.sqrt(delta_var_array_B[i]*sim_result_B.shape[1]),\n",
    "                                             nobs2=sim_result_B.shape[1], \n",
    "                                             equal_var=False)[1]\n",
    "        p_list.append(p_value)\n",
    "    return p_list"
   ]
  },
  {
   "cell_type": "code",
   "execution_count": 21,
   "id": "f88f2e6c-03e8-4883-8b97-c7b87454c1d8",
   "metadata": {},
   "outputs": [
    {
     "data": {
      "text/plain": [
       "Text(0.5, 1.0, 'delta method')"
      ]
     },
     "execution_count": 21,
     "metadata": {},
     "output_type": "execute_result"
    },
    {
     "data": {
      "image/png": "[encoded data removed]",
      "text/plain": [
       "<Figure size 432x288 with 1 Axes>"
      ]
     },
     "metadata": {
      "needs_background": "light"
     },
     "output_type": "display_data"
    }
   ],
   "source": [
    "import seaborn as sns\n",
    "p = sns.histplot(data=delta_p(sim_result_A, sim_result_B), bins=20)\n",
    "p.set_xlabel(\"p-value\")\n",
    "p.set_title(\"delta method\")"
   ]
  },
  {
   "cell_type": "code",
   "execution_count": 22,
   "id": "9ec1ba18-ddbd-4fc4-a1fd-0f352546c12f",
   "metadata": {},
   "outputs": [
    {
     "data": {
      "text/plain": [
       "Text(0.5, 1.0, 'naive method')"
      ]
     },
     "execution_count": 22,
     "metadata": {},
     "output_type": "execute_result"
    },
    {
     "data": {
      "image/png": "[encoded data removed]",
      "text/plain": [
       "<Figure size 432x288 with 1 Axes>"
      ]
     },
     "metadata": {
      "needs_background": "light"
     },
     "output_type": "display_data"
    }
   ],
   "source": [
    "import seaborn as sns\n",
    "def naive_p_value(sim_result_A, sim_result_B):\n",
    "    p_list = []\n",
    "    ctr_array_A = calc_ctr(sim_result_A)\n",
    "    delta_var_array_A = delta_var(sim_result_A)\n",
    "    \n",
    "    ctr_array_B = calc_ctr(sim_result_B)\n",
    "    delta_var_array_B = delta_var(sim_result_B)\n",
    "    num_sample_A = sim_result_A.sum(axis=1)[:,0]\n",
    "    num_sample_B = sim_result_B.sum(axis=1)[:,0]\n",
    "    for i in range(sim_result_A.shape[0]):\n",
    "        p_value = stats.ttest_ind_from_stats(mean1=ctr_array_A[i],\n",
    "                                             std1=np.sqrt(ctr_array_A[i]*(1.-ctr_array_A[i])),\n",
    "                                             nobs1=num_sample_A[i],\n",
    "                                             mean2=ctr_array_B[i],\n",
    "                                             std2=np.sqrt(ctr_array_B[i]*(1.-ctr_array_B[i])),\n",
    "                                             nobs2=num_sample_B[i], \n",
    "                                             equal_var=False)[1]\n",
    "        p_list.append(p_value)\n",
    "    return p_list\n",
    "p = sns.histplot(data=naive_p_value(sim_result_A, sim_result_B), bins=20)\n",
    "p.set_xlabel(\"p-value\")\n",
    "p.set_title(\"naive method\")"
   ]
  },
  {
   "cell_type": "code",
   "execution_count": 23,
   "id": "77ac5e90-73aa-4fed-a7f4-6cacf432cd25",
   "metadata": {},
   "outputs": [],
   "source": [
    "def make_exp_data(num_sim = 1000, num_user = 1000):\n",
    "    rng = np.random.default_rng()\n",
    "    sim_result = np.zeros((num_sim, num_user, 2))\n",
    "    for sim_i in range(num_sim):\n",
    "        for user_i in range(num_user):\n",
    "            sim_result[sim_i, user_i, :] = [8, np.random.binomial(8, 0.667, 1)[0]]\n",
    "    return sim_result"
   ]
  },
  {
   "cell_type": "code",
   "execution_count": 18,
   "id": "e3bea88f-29e0-49ee-8c97-9a88ad493a0f",
   "metadata": {},
   "outputs": [
    {
     "data": {
      "text/plain": [
       "<AxesSubplot:ylabel='Count'>"
      ]
     },
     "execution_count": 18,
     "metadata": {},
     "output_type": "execute_result"
    },
    {
     "data": {
      "image/png": "[encoded data removed]",
      "text/plain": [
       "<Figure size 432x288 with 1 Axes>"
      ]
     },
     "metadata": {
      "needs_background": "light"
     },
     "output_type": "display_data"
    }
   ],
   "source": [
    "sns.histplot(data=naive_p_value(make_exp_data(), make_exp_data()), bins=20)"
   ]
  }
 ],
 "metadata": {
  "kernelspec": {
   "display_name": "Python 3",
   "language": "python",
   "name": "python3"
  },
  "language_info": {
   "codemirror_mode": {
    "name": "ipython",
    "version": 3
   },
   "file_extension": ".py",
   "mimetype": "text/x-python",
   "name": "python",
   "nbconvert_exporter": "python",
   "pygments_lexer": "ipython3",
   "version": "3.9.2"
  }
 },
 "nbformat": 4,
 "nbformat_minor": 5
}
